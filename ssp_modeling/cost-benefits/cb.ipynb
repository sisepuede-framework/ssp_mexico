{
 "cells": [
  {
   "cell_type": "code",
   "execution_count": 24,
   "id": "9e102084",
   "metadata": {},
   "outputs": [],
   "source": [
    "## Load packages\n",
    "from costs_benefits_ssp.cb_calculate import CostBenefits\n",
    "import pandas as pd\n",
    "from costs_benefits_ssp.model.cb_data_model import TXTable,CostFactor,TransformationCost,StrategyInteraction\n",
    "import polars as pl\n",
    "import os"
   ]
  },
  {
   "cell_type": "code",
   "execution_count": 25,
   "id": "d1b526e1",
   "metadata": {},
   "outputs": [],
   "source": [
    "##---- Define Directories ----##\n",
    "SCRIPT_DIR_PATH = os.getcwd()\n",
    "PARENT_DIR_PATH = os.path.dirname(SCRIPT_DIR_PATH)\n",
    "OUTPUT_CB_PATH = os.path.join(SCRIPT_DIR_PATH, \"output\")\n",
    "CONFIG_DIR_PATH = os.path.join(SCRIPT_DIR_PATH, \"cb_config_files\")\n",
    "RUN_OUTPUT_DIR_PATH = os.path.join(PARENT_DIR_PATH, \"ssp_run_output\")\n",
    "RUN_ID = \"2025-09-27T14;28;50.745353\"\n",
    "RUN_DIR_PATH = os.path.join(RUN_OUTPUT_DIR_PATH, f\"sisepuede_results_sisepuede_run_{RUN_ID}\")\n"
   ]
  },
  {
   "cell_type": "code",
   "execution_count": 26,
   "id": "9915832e",
   "metadata": {},
   "outputs": [],
   "source": [
    "# Make sure output directory exists\n",
    "os.makedirs(OUTPUT_CB_PATH, exist_ok=True)"
   ]
  },
  {
   "cell_type": "code",
   "execution_count": 27,
   "id": "4e7b05b0",
   "metadata": {},
   "outputs": [
    {
     "name": "stdout",
     "output_type": "stream",
     "text": [
      "Loaded ssp_data with 87 rows and 4054 columns\n",
      "Loaded att_primary with 3 rows and 4 columns\n",
      "Loaded att_strategy with 74 rows and 6 columns\n"
     ]
    }
   ],
   "source": [
    "## Load the data\n",
    "ssp_data = pd.read_csv(os.path.join(RUN_DIR_PATH, \n",
    "                                    \"decomposed_ssp_output.csv\"))\n",
    "att_primary = pd.read_csv(os.path.join(RUN_DIR_PATH, \"ATTRIBUTE_PRIMARY.csv\"))\n",
    "att_strategy = pd.read_csv(os.path.join(RUN_DIR_PATH, \"ATTRIBUTE_STRATEGY.csv\"))\n",
    "print(f\"Loaded ssp_data with {ssp_data.shape[0]} rows and {ssp_data.shape[1]} columns\")\n",
    "print(f\"Loaded att_primary with {att_primary.shape[0]} rows and {att_primary.shape[1]} columns\")\n",
    "print(f\"Loaded att_strategy with {att_strategy.shape[0]} rows and {att_strategy.shape[1]} columns\")"
   ]
  },
  {
   "cell_type": "code",
   "execution_count": 28,
   "id": "9004b670",
   "metadata": {},
   "outputs": [],
   "source": [
    "## Define base strategy\n",
    "strategy_code_base = \"BASE\""
   ]
  },
  {
   "cell_type": "code",
   "execution_count": 29,
   "id": "bf93ee15",
   "metadata": {},
   "outputs": [],
   "source": [
    "# Check if strategy_code_base exists in att_strategy\n",
    "if strategy_code_base not in att_strategy['strategy_code'].values:\n",
    "    raise ValueError(f\"Base strategy code '{strategy_code_base}' not found in att_strategy.\")"
   ]
  },
  {
   "cell_type": "code",
   "execution_count": 30,
   "id": "121944e9",
   "metadata": {},
   "outputs": [
    {
     "name": "stdout",
     "output_type": "stream",
     "text": [
      "The TX TX:LNDU:BOUND_CLASSES is missing on AttTransformationCode\n",
      "The TX TX:LNDU:DEC_CLASS_LOSS is missing on AttTransformationCode\n",
      "The TX TX:LNDU:BOUND_CLASSES is missing on AttTransformationCode\n",
      "The TX TX:LNDU:DEC_CLASS_LOSS is missing on AttTransformationCode\n",
      "The TX TX:ENFU:ADJ_EXPORTS is missing on AttTransformationCode\n",
      "The TX TX:ENFU:ADJ_EXPORTS is missing on AttTransformationCode\n",
      "The TX TX:ENFU:ADJ_EXPORTS is missing on AttTransformationCode\n",
      "The TX TX:LNDU:BOUND_CLASSES is missing on AttTransformationCode\n",
      "The TX TX:LNDU:DEC_CLASS_LOSS is missing on AttTransformationCode\n"
     ]
    }
   ],
   "source": [
    "## Instantiate an object of the CostBenefits class\n",
    "cb = CostBenefits(ssp_data, att_primary, att_strategy, strategy_code_base)"
   ]
  },
  {
   "cell_type": "code",
   "execution_count": 31,
   "id": "1db8b2a8",
   "metadata": {},
   "outputs": [
    {
     "name": "stdout",
     "output_type": "stream",
     "text": [
      "Cargamos configuración de archivo excel\n",
      "Se actualizó la base de datos\n"
     ]
    }
   ],
   "source": [
    "# Once the excel file has been updated, we can reload it to update the cost factors database\n",
    "cb.load_cb_parameters(os.path.join(CONFIG_DIR_PATH, \"cb_config_params.xlsx\"))"
   ]
  },
  {
   "cell_type": "code",
   "execution_count": 32,
   "id": "bc236235",
   "metadata": {},
   "outputs": [
    {
     "name": "stdout",
     "output_type": "stream",
     "text": [
      "\n",
      "************************************\n",
      "*Strategy : EN:ALL (0/2)\n",
      "************************************\n",
      "\n",
      "\n",
      "************************************\n",
      "*Strategy : PFLO:ALL (1/2)\n",
      "************************************\n",
      "\n"
     ]
    }
   ],
   "source": [
    "# Compute System Costs\n",
    "results_system = cb.compute_system_cost_for_all_strategies(verbose=False)"
   ]
  },
  {
   "cell_type": "code",
   "execution_count": 33,
   "id": "e6925fdf",
   "metadata": {},
   "outputs": [
    {
     "name": "stdout",
     "output_type": "stream",
     "text": [
      "\n",
      "************************************\n",
      "*Strategy : EN:ALL (0/2)\n",
      "************************************\n",
      "\n",
      "La variable se evalúa en Transformation Cost\n",
      "La variable se evalúa en Transformation Cost\n",
      "La variable se evalúa en Transformation Cost\n",
      "La variable se evalúa en Transformation Cost\n",
      "La variable se evalúa en Transformation Cost\n",
      "La variable se evalúa en Transformation Cost\n",
      "La variable se evalúa en Transformation Cost\n",
      "La variable se evalúa en Transformation Cost\n",
      "La variable se evalúa en Transformation Cost\n",
      "La variable se evalúa en Transformation Cost\n",
      "La variable se evalúa en Transformation Cost\n",
      "La variable se evalúa en Transformation Cost\n",
      "La variable se evalúa en Transformation Cost\n",
      "La variable se evalúa en Transformation Cost\n",
      "La variable se evalúa en Transformation Cost\n",
      "La variable se evalúa en Transformation Cost\n",
      "La variable se evalúa en Transformation Cost\n",
      "La variable se evalúa en Transformation Cost\n",
      "La variable se evalúa en Transformation Cost\n",
      "La variable se evalúa en Transformation Cost\n",
      "La variable se evalúa en Transformation Cost\n",
      "La variable se evalúa en Transformation Cost\n",
      "La variable se evalúa en Transformation Cost\n",
      "La variable se evalúa en Transformation Cost\n",
      "La variable se evalúa en Transformation Cost\n",
      "La variable se evalúa en Transformation Cost\n",
      "\n",
      "************************************\n",
      "*Strategy : PFLO:ALL (1/2)\n",
      "************************************\n",
      "\n"
     ]
    },
    {
     "name": "stderr",
     "output_type": "stream",
     "text": [
      "/Users/fabianfuentes/anaconda3/envs/ssp_MEX/lib/python3.11/site-packages/costs_benefits_ssp/cb_calculate.py:856: SettingWithCopyWarning: \n",
      "A value is trying to be set on a copy of a slice from a DataFrame.\n",
      "Try using .loc[row_indexer,col_indexer] = value instead\n",
      "\n",
      "See the caveats in the documentation: https://pandas.pydata.org/pandas-docs/stable/user_guide/indexing.html#returning-a-view-versus-a-copy\n",
      "  tmp[\"difference_variable\"] = cb_orm.diff_var\n",
      "/Users/fabianfuentes/anaconda3/envs/ssp_MEX/lib/python3.11/site-packages/costs_benefits_ssp/cb_calculate.py:857: SettingWithCopyWarning: \n",
      "A value is trying to be set on a copy of a slice from a DataFrame.\n",
      "Try using .loc[row_indexer,col_indexer] = value instead\n",
      "\n",
      "See the caveats in the documentation: https://pandas.pydata.org/pandas-docs/stable/user_guide/indexing.html#returning-a-view-versus-a-copy\n",
      "  tmp[\"difference_value\"] = data_merged[\"difference\"]\n",
      "/Users/fabianfuentes/anaconda3/envs/ssp_MEX/lib/python3.11/site-packages/costs_benefits_ssp/cb_calculate.py:858: SettingWithCopyWarning: \n",
      "A value is trying to be set on a copy of a slice from a DataFrame.\n",
      "Try using .loc[row_indexer,col_indexer] = value instead\n",
      "\n",
      "See the caveats in the documentation: https://pandas.pydata.org/pandas-docs/stable/user_guide/indexing.html#returning-a-view-versus-a-copy\n",
      "  tmp[\"variable\"] = cb_orm.output_variable_name\n",
      "/Users/fabianfuentes/anaconda3/envs/ssp_MEX/lib/python3.11/site-packages/costs_benefits_ssp/cb_calculate.py:859: SettingWithCopyWarning: \n",
      "A value is trying to be set on a copy of a slice from a DataFrame.\n",
      "Try using .loc[row_indexer,col_indexer] = value instead\n",
      "\n",
      "See the caveats in the documentation: https://pandas.pydata.org/pandas-docs/stable/user_guide/indexing.html#returning-a-view-versus-a-copy\n",
      "  tmp[\"value\"] = data_merged[\"values\"]\n",
      "/Users/fabianfuentes/anaconda3/envs/ssp_MEX/lib/python3.11/site-packages/costs_benefits_ssp/cb_calculate.py:863: SettingWithCopyWarning: \n",
      "A value is trying to be set on a copy of a slice from a DataFrame.\n",
      "Try using .loc[row_indexer,col_indexer] = value instead\n",
      "\n",
      "See the caveats in the documentation: https://pandas.pydata.org/pandas-docs/stable/user_guide/indexing.html#returning-a-view-versus-a-copy\n",
      "  tmp['variable_value_baseline'] = 0\n"
     ]
    },
    {
     "name": "stdout",
     "output_type": "stream",
     "text": [
      "La variable se evalúa en Transformation Cost\n",
      "La variable se evalúa en Transformation Cost\n",
      "La variable se evalúa en Transformation Cost\n",
      "La variable se evalúa en Transformation Cost\n",
      "La variable se evalúa en Transformation Cost\n",
      "La variable se evalúa en Transformation Cost\n",
      "La variable se evalúa en Transformation Cost\n",
      "La variable se evalúa en Transformation Cost\n",
      "La variable se evalúa en Transformation Cost\n",
      "La variable se evalúa en Transformation Cost\n",
      "La variable se evalúa en Transformation Cost\n",
      "La variable se evalúa en Transformation Cost\n",
      "La variable se evalúa en Transformation Cost\n",
      "La variable se evalúa en Transformation Cost\n",
      "La variable se evalúa en Transformation Cost\n",
      "La variable se evalúa en Transformation Cost\n",
      "La variable se evalúa en Transformation Cost\n",
      "La variable se evalúa en Transformation Cost\n",
      "La variable se evalúa en Transformation Cost\n",
      "La variable se evalúa en Transformation Cost\n",
      "La variable se evalúa en Transformation Cost\n",
      "La variable se evalúa en Transformation Cost\n",
      "La variable se evalúa en Transformation Cost\n",
      "La variable se evalúa en Transformation Cost\n",
      "La variable se evalúa en Transformation Cost\n",
      "La variable se evalúa en Transformation Cost\n"
     ]
    },
    {
     "name": "stderr",
     "output_type": "stream",
     "text": [
      "/Users/fabianfuentes/anaconda3/envs/ssp_MEX/lib/python3.11/site-packages/costs_benefits_ssp/cb_calculate.py:856: SettingWithCopyWarning: \n",
      "A value is trying to be set on a copy of a slice from a DataFrame.\n",
      "Try using .loc[row_indexer,col_indexer] = value instead\n",
      "\n",
      "See the caveats in the documentation: https://pandas.pydata.org/pandas-docs/stable/user_guide/indexing.html#returning-a-view-versus-a-copy\n",
      "  tmp[\"difference_variable\"] = cb_orm.diff_var\n",
      "/Users/fabianfuentes/anaconda3/envs/ssp_MEX/lib/python3.11/site-packages/costs_benefits_ssp/cb_calculate.py:857: SettingWithCopyWarning: \n",
      "A value is trying to be set on a copy of a slice from a DataFrame.\n",
      "Try using .loc[row_indexer,col_indexer] = value instead\n",
      "\n",
      "See the caveats in the documentation: https://pandas.pydata.org/pandas-docs/stable/user_guide/indexing.html#returning-a-view-versus-a-copy\n",
      "  tmp[\"difference_value\"] = data_merged[\"difference\"]\n",
      "/Users/fabianfuentes/anaconda3/envs/ssp_MEX/lib/python3.11/site-packages/costs_benefits_ssp/cb_calculate.py:858: SettingWithCopyWarning: \n",
      "A value is trying to be set on a copy of a slice from a DataFrame.\n",
      "Try using .loc[row_indexer,col_indexer] = value instead\n",
      "\n",
      "See the caveats in the documentation: https://pandas.pydata.org/pandas-docs/stable/user_guide/indexing.html#returning-a-view-versus-a-copy\n",
      "  tmp[\"variable\"] = cb_orm.output_variable_name\n",
      "/Users/fabianfuentes/anaconda3/envs/ssp_MEX/lib/python3.11/site-packages/costs_benefits_ssp/cb_calculate.py:859: SettingWithCopyWarning: \n",
      "A value is trying to be set on a copy of a slice from a DataFrame.\n",
      "Try using .loc[row_indexer,col_indexer] = value instead\n",
      "\n",
      "See the caveats in the documentation: https://pandas.pydata.org/pandas-docs/stable/user_guide/indexing.html#returning-a-view-versus-a-copy\n",
      "  tmp[\"value\"] = data_merged[\"values\"]\n",
      "/Users/fabianfuentes/anaconda3/envs/ssp_MEX/lib/python3.11/site-packages/costs_benefits_ssp/cb_calculate.py:863: SettingWithCopyWarning: \n",
      "A value is trying to be set on a copy of a slice from a DataFrame.\n",
      "Try using .loc[row_indexer,col_indexer] = value instead\n",
      "\n",
      "See the caveats in the documentation: https://pandas.pydata.org/pandas-docs/stable/user_guide/indexing.html#returning-a-view-versus-a-copy\n",
      "  tmp['variable_value_baseline'] = 0\n",
      "/Users/fabianfuentes/anaconda3/envs/ssp_MEX/lib/python3.11/site-packages/costs_benefits_ssp/cb_calculate.py:1067: SettingWithCopyWarning: \n",
      "A value is trying to be set on a copy of a slice from a DataFrame.\n",
      "Try using .loc[row_indexer,col_indexer] = value instead\n",
      "\n",
      "See the caveats in the documentation: https://pandas.pydata.org/pandas-docs/stable/user_guide/indexing.html#returning-a-view-versus-a-copy\n",
      "  data_output['variable_value_baseline'] = 0\n",
      "/Users/fabianfuentes/anaconda3/envs/ssp_MEX/lib/python3.11/site-packages/costs_benefits_ssp/cb_calculate.py:1070: SettingWithCopyWarning: \n",
      "A value is trying to be set on a copy of a slice from a DataFrame.\n",
      "Try using .loc[row_indexer,col_indexer] = value instead\n",
      "\n",
      "See the caveats in the documentation: https://pandas.pydata.org/pandas-docs/stable/user_guide/indexing.html#returning-a-view-versus-a-copy\n",
      "  data_output['variable_value_pathway'] = data_merged[\"difference_value\"]\n"
     ]
    },
    {
     "name": "stdout",
     "output_type": "stream",
     "text": [
      "La variable se evalúa en Transformation Cost\n",
      "La variable se evalúa en Transformation Cost\n",
      "La variable se evalúa en Transformation Cost\n",
      "La variable se evalúa en Transformation Cost\n",
      "La variable se evalúa en Transformation Cost\n",
      "La variable se evalúa en Transformation Cost\n",
      "La variable se evalúa en Transformation Cost\n",
      "La variable se evalúa en Transformation Cost\n",
      "La variable se evalúa en Transformation Cost\n",
      "La variable se evalúa en Transformation Cost\n",
      "La variable se evalúa en Transformation Cost\n",
      "La variable se evalúa en Transformation Cost\n",
      "La variable se evalúa en Transformation Cost\n",
      "La variable se evalúa en Transformation Cost\n",
      "La variable se evalúa en Transformation Cost\n",
      "La variable se evalúa en Transformation Cost\n",
      "La variable se evalúa en Transformation Cost\n",
      "La variable se evalúa en Transformation Cost\n",
      "La variable se evalúa en Transformation Cost\n",
      "La variable se evalúa en Transformation Cost\n"
     ]
    }
   ],
   "source": [
    "# Compute Technical Costs\n",
    "results_tx = cb.compute_technical_cost_for_all_strategies(verbose=False)"
   ]
  },
  {
   "cell_type": "code",
   "execution_count": 34,
   "id": "8157dd4c",
   "metadata": {},
   "outputs": [],
   "source": [
    "# Combine results\n",
    "results_all = pd.concat([results_system, results_tx], ignore_index = True)"
   ]
  },
  {
   "cell_type": "code",
   "execution_count": 35,
   "id": "ed4d0b75",
   "metadata": {},
   "outputs": [
    {
     "name": "stdout",
     "output_type": "stream",
     "text": [
      "Resolving Interactions in SCOE : TX:SCOE:INC_EFFICIENCY_APPLIANCE, TX:SCOE:SHIFT_FUEL_HEAT, TX:SCOE:SHIFT_FUEL_HEAT, TX:SCOE:DEC_DEMAND_HEAT \n",
      "Resolving Interactions in INEN : TX:INEN:SHIFT_FUEL_HEAT, TX:INEN:SHIFT_FUEL_HEAT, TX:INEN:SHIFT_FUEL_HEAT, TX:INEN:SHIFT_FUEL_HEAT, TX:INEN:SHIFT_FUEL_HEAT, TX:INEN:SHIFT_FUEL_HEAT, TX:INEN:INC_EFFICIENCY_ENERGY \n",
      "Resolving Interactions in SCOE : TX:SCOE:INC_EFFICIENCY_APPLIANCE, TX:SCOE:SHIFT_FUEL_HEAT, TX:SCOE:SHIFT_FUEL_HEAT, TX:SCOE:DEC_DEMAND_HEAT \n",
      "Resolving Interactions in INEN : TX:INEN:SHIFT_FUEL_HEAT, TX:INEN:SHIFT_FUEL_HEAT, TX:INEN:SHIFT_FUEL_HEAT, TX:INEN:SHIFT_FUEL_HEAT, TX:INEN:SHIFT_FUEL_HEAT, TX:INEN:SHIFT_FUEL_HEAT, TX:INEN:INC_EFFICIENCY_ENERGY \n"
     ]
    },
    {
     "name": "stderr",
     "output_type": "stream",
     "text": [
      "/Users/fabianfuentes/anaconda3/envs/ssp_MEX/lib/python3.11/site-packages/costs_benefits_ssp/cb_calculate.py:660: SettingWithCopyWarning: \n",
      "A value is trying to be set on a copy of a slice from a DataFrame.\n",
      "Try using .loc[row_indexer,col_indexer] = value instead\n",
      "\n",
      "See the caveats in the documentation: https://pandas.pydata.org/pandas-docs/stable/user_guide/indexing.html#returning-a-view-versus-a-copy\n",
      "  res_pre2025[\"variable\"] = res_pre2025[\"variable\"] + \"_shifted\" + (res_pre2025[\"time_period\"]+SSP_GLOBAL_TIME_PERIOD_0).astype(str)#create a new variable so they can be recognized as shifted costs\n",
      "/Users/fabianfuentes/anaconda3/envs/ssp_MEX/lib/python3.11/site-packages/costs_benefits_ssp/cb_calculate.py:661: SettingWithCopyWarning: \n",
      "A value is trying to be set on a copy of a slice from a DataFrame.\n",
      "Try using .loc[row_indexer,col_indexer] = value instead\n",
      "\n",
      "See the caveats in the documentation: https://pandas.pydata.org/pandas-docs/stable/user_guide/indexing.html#returning-a-view-versus-a-copy\n",
      "  res_pre2025[\"time_period\"] = res_pre2025[\"time_period\"]+SSP_GLOBAL_TIME_PERIOD_TX_START #shift the time period\n"
     ]
    }
   ],
   "source": [
    "#-------------POST PROCESS SIMULATION RESULTS---------------\n",
    "# Post process interactions among strategies that affect the same variables\n",
    "results_all_pp = cb.cb_process_interactions(results_all)\n",
    "\n",
    "# SHIFT any stray costs incurred from 2015 to 2025 to 2025 and 2035\n",
    "results_all_pp_shifted = cb.cb_shift_costs(results_all_pp)\n"
   ]
  },
  {
   "cell_type": "code",
   "execution_count": 36,
   "id": "6fb7cca4",
   "metadata": {},
   "outputs": [
    {
     "data": {
      "text/html": [
       "<div>\n",
       "<style scoped>\n",
       "    .dataframe tbody tr th:only-of-type {\n",
       "        vertical-align: middle;\n",
       "    }\n",
       "\n",
       "    .dataframe tbody tr th {\n",
       "        vertical-align: top;\n",
       "    }\n",
       "\n",
       "    .dataframe thead th {\n",
       "        text-align: right;\n",
       "    }\n",
       "</style>\n",
       "<table border=\"1\" class=\"dataframe\">\n",
       "  <thead>\n",
       "    <tr style=\"text-align: right;\">\n",
       "      <th></th>\n",
       "      <th>strategy_code</th>\n",
       "      <th>future_id</th>\n",
       "      <th>region</th>\n",
       "      <th>time_period</th>\n",
       "      <th>difference_variable</th>\n",
       "      <th>variable_value_baseline</th>\n",
       "      <th>variable_value_pathway</th>\n",
       "      <th>difference_value</th>\n",
       "      <th>variable</th>\n",
       "      <th>value</th>\n",
       "    </tr>\n",
       "  </thead>\n",
       "  <tbody>\n",
       "    <tr>\n",
       "      <th>0</th>\n",
       "      <td>EN:ALL</td>\n",
       "      <td>0.0</td>\n",
       "      <td>mexico</td>\n",
       "      <td>7.0</td>\n",
       "      <td>pop_unimproved_rural</td>\n",
       "      <td>299091.209054</td>\n",
       "      <td>299091.209054</td>\n",
       "      <td>0.000000e+00</td>\n",
       "      <td>cb:wali:technical_cost:sanitation:unimp_rural</td>\n",
       "      <td>0.000000e+00</td>\n",
       "    </tr>\n",
       "    <tr>\n",
       "      <th>1</th>\n",
       "      <td>EN:ALL</td>\n",
       "      <td>0.0</td>\n",
       "      <td>mexico</td>\n",
       "      <td>8.0</td>\n",
       "      <td>pop_unimproved_rural</td>\n",
       "      <td>294340.078493</td>\n",
       "      <td>294340.078493</td>\n",
       "      <td>0.000000e+00</td>\n",
       "      <td>cb:wali:technical_cost:sanitation:unimp_rural</td>\n",
       "      <td>0.000000e+00</td>\n",
       "    </tr>\n",
       "    <tr>\n",
       "      <th>2</th>\n",
       "      <td>EN:ALL</td>\n",
       "      <td>0.0</td>\n",
       "      <td>mexico</td>\n",
       "      <td>9.0</td>\n",
       "      <td>pop_unimproved_rural</td>\n",
       "      <td>289474.711388</td>\n",
       "      <td>289474.711388</td>\n",
       "      <td>0.000000e+00</td>\n",
       "      <td>cb:wali:technical_cost:sanitation:unimp_rural</td>\n",
       "      <td>0.000000e+00</td>\n",
       "    </tr>\n",
       "    <tr>\n",
       "      <th>3</th>\n",
       "      <td>EN:ALL</td>\n",
       "      <td>0.0</td>\n",
       "      <td>mexico</td>\n",
       "      <td>10.0</td>\n",
       "      <td>pop_unimproved_rural</td>\n",
       "      <td>284494.629299</td>\n",
       "      <td>284494.629299</td>\n",
       "      <td>0.000000e+00</td>\n",
       "      <td>cb:wali:technical_cost:sanitation:unimp_rural</td>\n",
       "      <td>-0.000000e+00</td>\n",
       "    </tr>\n",
       "    <tr>\n",
       "      <th>4</th>\n",
       "      <td>EN:ALL</td>\n",
       "      <td>0.0</td>\n",
       "      <td>mexico</td>\n",
       "      <td>11.0</td>\n",
       "      <td>pop_unimproved_rural</td>\n",
       "      <td>279403.968085</td>\n",
       "      <td>279403.968085</td>\n",
       "      <td>0.000000e+00</td>\n",
       "      <td>cb:wali:technical_cost:sanitation:unimp_rural</td>\n",
       "      <td>-0.000000e+00</td>\n",
       "    </tr>\n",
       "    <tr>\n",
       "      <th>...</th>\n",
       "      <td>...</td>\n",
       "      <td>...</td>\n",
       "      <td>...</td>\n",
       "      <td>...</td>\n",
       "      <td>...</td>\n",
       "      <td>...</td>\n",
       "      <td>...</td>\n",
       "      <td>...</td>\n",
       "      <td>...</td>\n",
       "      <td>...</td>\n",
       "    </tr>\n",
       "    <tr>\n",
       "      <th>14107</th>\n",
       "      <td>PFLO:ALL</td>\n",
       "      <td>0.0</td>\n",
       "      <td>mexico</td>\n",
       "      <td>18.0</td>\n",
       "      <td>energy_consumption_inen_total</td>\n",
       "      <td>479.484629</td>\n",
       "      <td>479.484629</td>\n",
       "      <td>0.000000e+00</td>\n",
       "      <td>cb:inen:technical_savings:fuel_switch:all_shif...</td>\n",
       "      <td>-0.000000e+00</td>\n",
       "    </tr>\n",
       "    <tr>\n",
       "      <th>14108</th>\n",
       "      <td>PFLO:ALL</td>\n",
       "      <td>0.0</td>\n",
       "      <td>mexico</td>\n",
       "      <td>19.0</td>\n",
       "      <td>energy_consumption_inen_total</td>\n",
       "      <td>476.633221</td>\n",
       "      <td>476.633221</td>\n",
       "      <td>4.578985e-12</td>\n",
       "      <td>cb:inen:technical_savings:fuel_switch:all_shif...</td>\n",
       "      <td>-3.818874e-07</td>\n",
       "    </tr>\n",
       "    <tr>\n",
       "      <th>14109</th>\n",
       "      <td>PFLO:ALL</td>\n",
       "      <td>0.0</td>\n",
       "      <td>mexico</td>\n",
       "      <td>17.0</td>\n",
       "      <td>energy_consumption_inen_total</td>\n",
       "      <td>577.935613</td>\n",
       "      <td>577.935613</td>\n",
       "      <td>0.000000e+00</td>\n",
       "      <td>cb:inen:technical_cost:efficiency:X_shifted2022.0</td>\n",
       "      <td>0.000000e+00</td>\n",
       "    </tr>\n",
       "    <tr>\n",
       "      <th>14110</th>\n",
       "      <td>PFLO:ALL</td>\n",
       "      <td>0.0</td>\n",
       "      <td>mexico</td>\n",
       "      <td>18.0</td>\n",
       "      <td>energy_consumption_inen_total</td>\n",
       "      <td>568.122115</td>\n",
       "      <td>568.122115</td>\n",
       "      <td>0.000000e+00</td>\n",
       "      <td>cb:inen:technical_cost:efficiency:X_shifted2023.0</td>\n",
       "      <td>0.000000e+00</td>\n",
       "    </tr>\n",
       "    <tr>\n",
       "      <th>14111</th>\n",
       "      <td>PFLO:ALL</td>\n",
       "      <td>0.0</td>\n",
       "      <td>mexico</td>\n",
       "      <td>19.0</td>\n",
       "      <td>energy_consumption_inen_total</td>\n",
       "      <td>564.743595</td>\n",
       "      <td>564.743595</td>\n",
       "      <td>5.425456e-12</td>\n",
       "      <td>cb:inen:technical_cost:efficiency:X_shifted2024.0</td>\n",
       "      <td>5.425456e-05</td>\n",
       "    </tr>\n",
       "  </tbody>\n",
       "</table>\n",
       "<p>14112 rows × 10 columns</p>\n",
       "</div>"
      ],
      "text/plain": [
       "      strategy_code  future_id  region  time_period  \\\n",
       "0            EN:ALL        0.0  mexico          7.0   \n",
       "1            EN:ALL        0.0  mexico          8.0   \n",
       "2            EN:ALL        0.0  mexico          9.0   \n",
       "3            EN:ALL        0.0  mexico         10.0   \n",
       "4            EN:ALL        0.0  mexico         11.0   \n",
       "...             ...        ...     ...          ...   \n",
       "14107      PFLO:ALL        0.0  mexico         18.0   \n",
       "14108      PFLO:ALL        0.0  mexico         19.0   \n",
       "14109      PFLO:ALL        0.0  mexico         17.0   \n",
       "14110      PFLO:ALL        0.0  mexico         18.0   \n",
       "14111      PFLO:ALL        0.0  mexico         19.0   \n",
       "\n",
       "                 difference_variable  variable_value_baseline  \\\n",
       "0               pop_unimproved_rural            299091.209054   \n",
       "1               pop_unimproved_rural            294340.078493   \n",
       "2               pop_unimproved_rural            289474.711388   \n",
       "3               pop_unimproved_rural            284494.629299   \n",
       "4               pop_unimproved_rural            279403.968085   \n",
       "...                              ...                      ...   \n",
       "14107  energy_consumption_inen_total               479.484629   \n",
       "14108  energy_consumption_inen_total               476.633221   \n",
       "14109  energy_consumption_inen_total               577.935613   \n",
       "14110  energy_consumption_inen_total               568.122115   \n",
       "14111  energy_consumption_inen_total               564.743595   \n",
       "\n",
       "       variable_value_pathway  difference_value  \\\n",
       "0               299091.209054      0.000000e+00   \n",
       "1               294340.078493      0.000000e+00   \n",
       "2               289474.711388      0.000000e+00   \n",
       "3               284494.629299      0.000000e+00   \n",
       "4               279403.968085      0.000000e+00   \n",
       "...                       ...               ...   \n",
       "14107              479.484629      0.000000e+00   \n",
       "14108              476.633221      4.578985e-12   \n",
       "14109              577.935613      0.000000e+00   \n",
       "14110              568.122115      0.000000e+00   \n",
       "14111              564.743595      5.425456e-12   \n",
       "\n",
       "                                                variable         value  \n",
       "0          cb:wali:technical_cost:sanitation:unimp_rural  0.000000e+00  \n",
       "1          cb:wali:technical_cost:sanitation:unimp_rural  0.000000e+00  \n",
       "2          cb:wali:technical_cost:sanitation:unimp_rural  0.000000e+00  \n",
       "3          cb:wali:technical_cost:sanitation:unimp_rural -0.000000e+00  \n",
       "4          cb:wali:technical_cost:sanitation:unimp_rural -0.000000e+00  \n",
       "...                                                  ...           ...  \n",
       "14107  cb:inen:technical_savings:fuel_switch:all_shif... -0.000000e+00  \n",
       "14108  cb:inen:technical_savings:fuel_switch:all_shif... -3.818874e-07  \n",
       "14109  cb:inen:technical_cost:efficiency:X_shifted2022.0  0.000000e+00  \n",
       "14110  cb:inen:technical_cost:efficiency:X_shifted2023.0  0.000000e+00  \n",
       "14111  cb:inen:technical_cost:efficiency:X_shifted2024.0  5.425456e-05  \n",
       "\n",
       "[14112 rows x 10 columns]"
      ]
     },
     "execution_count": 36,
     "metadata": {},
     "output_type": "execute_result"
    }
   ],
   "source": [
    "results_all_pp_shifted"
   ]
  },
  {
   "cell_type": "code",
   "execution_count": 37,
   "id": "533f0acb",
   "metadata": {},
   "outputs": [
    {
     "data": {
      "text/html": [
       "<div>\n",
       "<style scoped>\n",
       "    .dataframe tbody tr th:only-of-type {\n",
       "        vertical-align: middle;\n",
       "    }\n",
       "\n",
       "    .dataframe tbody tr th {\n",
       "        vertical-align: top;\n",
       "    }\n",
       "\n",
       "    .dataframe thead th {\n",
       "        text-align: right;\n",
       "    }\n",
       "</style>\n",
       "<table border=\"1\" class=\"dataframe\">\n",
       "  <thead>\n",
       "    <tr style=\"text-align: right;\">\n",
       "      <th></th>\n",
       "      <th>future_id</th>\n",
       "      <th>time_period</th>\n",
       "      <th>variable_value_baseline</th>\n",
       "      <th>variable_value_pathway</th>\n",
       "      <th>difference_value</th>\n",
       "      <th>value</th>\n",
       "    </tr>\n",
       "  </thead>\n",
       "  <tbody>\n",
       "    <tr>\n",
       "      <th>count</th>\n",
       "      <td>14112.0</td>\n",
       "      <td>14112.000000</td>\n",
       "      <td>1.392000e+04</td>\n",
       "      <td>1.395200e+04</td>\n",
       "      <td>1.376000e+04</td>\n",
       "      <td>1.379300e+04</td>\n",
       "    </tr>\n",
       "    <tr>\n",
       "      <th>mean</th>\n",
       "      <td>0.0</td>\n",
       "      <td>20.718750</td>\n",
       "      <td>2.165220e+09</td>\n",
       "      <td>1.995486e+09</td>\n",
       "      <td>-1.646224e+08</td>\n",
       "      <td>7.281711e+11</td>\n",
       "    </tr>\n",
       "    <tr>\n",
       "      <th>std</th>\n",
       "      <td>0.0</td>\n",
       "      <td>8.016808</td>\n",
       "      <td>2.208617e+10</td>\n",
       "      <td>1.434092e+10</td>\n",
       "      <td>1.468487e+10</td>\n",
       "      <td>1.375739e+13</td>\n",
       "    </tr>\n",
       "    <tr>\n",
       "      <th>min</th>\n",
       "      <td>0.0</td>\n",
       "      <td>7.000000</td>\n",
       "      <td>-5.712715e-12</td>\n",
       "      <td>-1.168100e+02</td>\n",
       "      <td>-3.747746e+11</td>\n",
       "      <td>-4.547929e+10</td>\n",
       "    </tr>\n",
       "    <tr>\n",
       "      <th>25%</th>\n",
       "      <td>0.0</td>\n",
       "      <td>14.750000</td>\n",
       "      <td>0.000000e+00</td>\n",
       "      <td>0.000000e+00</td>\n",
       "      <td>-7.755154e-04</td>\n",
       "      <td>0.000000e+00</td>\n",
       "    </tr>\n",
       "    <tr>\n",
       "      <th>50%</th>\n",
       "      <td>0.0</td>\n",
       "      <td>19.500000</td>\n",
       "      <td>2.924866e+02</td>\n",
       "      <td>2.930707e+02</td>\n",
       "      <td>0.000000e+00</td>\n",
       "      <td>0.000000e+00</td>\n",
       "    </tr>\n",
       "    <tr>\n",
       "      <th>75%</th>\n",
       "      <td>0.0</td>\n",
       "      <td>27.250000</td>\n",
       "      <td>4.419867e+05</td>\n",
       "      <td>1.209650e+06</td>\n",
       "      <td>0.000000e+00</td>\n",
       "      <td>1.218741e+04</td>\n",
       "    </tr>\n",
       "    <tr>\n",
       "      <th>max</th>\n",
       "      <td>0.0</td>\n",
       "      <td>35.000000</td>\n",
       "      <td>4.518293e+11</td>\n",
       "      <td>2.168722e+11</td>\n",
       "      <td>1.514522e+11</td>\n",
       "      <td>3.566422e+14</td>\n",
       "    </tr>\n",
       "  </tbody>\n",
       "</table>\n",
       "</div>"
      ],
      "text/plain": [
       "       future_id   time_period  variable_value_baseline  \\\n",
       "count    14112.0  14112.000000             1.392000e+04   \n",
       "mean         0.0     20.718750             2.165220e+09   \n",
       "std          0.0      8.016808             2.208617e+10   \n",
       "min          0.0      7.000000            -5.712715e-12   \n",
       "25%          0.0     14.750000             0.000000e+00   \n",
       "50%          0.0     19.500000             2.924866e+02   \n",
       "75%          0.0     27.250000             4.419867e+05   \n",
       "max          0.0     35.000000             4.518293e+11   \n",
       "\n",
       "       variable_value_pathway  difference_value         value  \n",
       "count            1.395200e+04      1.376000e+04  1.379300e+04  \n",
       "mean             1.995486e+09     -1.646224e+08  7.281711e+11  \n",
       "std              1.434092e+10      1.468487e+10  1.375739e+13  \n",
       "min             -1.168100e+02     -3.747746e+11 -4.547929e+10  \n",
       "25%              0.000000e+00     -7.755154e-04  0.000000e+00  \n",
       "50%              2.930707e+02      0.000000e+00  0.000000e+00  \n",
       "75%              1.209650e+06      0.000000e+00  1.218741e+04  \n",
       "max              2.168722e+11      1.514522e+11  3.566422e+14  "
      ]
     },
     "execution_count": 37,
     "metadata": {},
     "output_type": "execute_result"
    }
   ],
   "source": [
    "results_all_pp_shifted.describe()"
   ]
  },
  {
   "cell_type": "code",
   "execution_count": 38,
   "id": "71030041",
   "metadata": {},
   "outputs": [
    {
     "data": {
      "image/png": "[encoded data removed]",
      "text/plain": [
       "<Figure size 640x480 with 1 Axes>"
      ]
     },
     "metadata": {},
     "output_type": "display_data"
    }
   ],
   "source": [
    "import matplotlib.pyplot as plt\n",
    "plt.hist(results_all_pp_shifted.value, bins=50)\n",
    "plt.title('Histogram of Cost Values')\n",
    "plt.xlabel('Cost Value')\n",
    "plt.ylabel('Frequency')\n",
    "plt.show()"
   ]
  },
  {
   "cell_type": "markdown",
   "id": "4ee32373",
   "metadata": {},
   "source": [
    "## Check for NaNs and Infs and DF Cleaning"
   ]
  },
  {
   "cell_type": "code",
   "execution_count": 39,
   "id": "a68cc834",
   "metadata": {},
   "outputs": [
    {
     "data": {
      "text/plain": [
       "np.True_"
      ]
     },
     "execution_count": 39,
     "metadata": {},
     "output_type": "execute_result"
    }
   ],
   "source": [
    "# check nans\n",
    "results_all_pp_shifted.value.isna().any()"
   ]
  },
  {
   "cell_type": "code",
   "execution_count": 40,
   "id": "83c42f52",
   "metadata": {},
   "outputs": [
    {
     "data": {
      "text/plain": [
       "np.False_"
      ]
     },
     "execution_count": 40,
     "metadata": {},
     "output_type": "execute_result"
    }
   ],
   "source": [
    "# check -inf or inf values\n",
    "results_all_pp_shifted.value.isin([float('inf'), float('-inf')]).any()"
   ]
  },
  {
   "cell_type": "markdown",
   "id": "af638605",
   "metadata": {},
   "source": [
    "## Save"
   ]
  },
  {
   "cell_type": "code",
   "execution_count": 41,
   "id": "81a6b865",
   "metadata": {},
   "outputs": [],
   "source": [
    "results_all_pp_shifted.to_csv(os.path.join(OUTPUT_CB_PATH, f\"cb_{RUN_ID}.csv\"), index = False)"
   ]
  },
  {
   "cell_type": "code",
   "execution_count": null,
   "id": "0571d61b",
   "metadata": {},
   "outputs": [],
   "source": []
  }
 ],
 "metadata": {
  "kernelspec": {
   "display_name": "ssp_MEX",
   "language": "python",
   "name": "python3"
  },
  "language_info": {
   "codemirror_mode": {
    "name": "ipython",
    "version": 3
   },
   "file_extension": ".py",
   "mimetype": "text/x-python",
   "name": "python",
   "nbconvert_exporter": "python",
   "pygments_lexer": "ipython3",
   "version": "3.11.13"
  }
 },
 "nbformat": 4,
 "nbformat_minor": 5
}
